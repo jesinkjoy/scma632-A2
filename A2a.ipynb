{
 "cells": [
  {
   "cell_type": "code",
   "execution_count": 3,
   "id": "68df95af",
   "metadata": {},
   "outputs": [
    {
     "name": "stdout",
     "output_type": "stream",
     "text": [
      "E:\\JESIN\\DOCUMENTS\\scma\\A2a\n"
     ]
    },
    {
     "name": "stderr",
     "output_type": "stream",
     "text": [
      "C:\\Users\\user\\AppData\\Local\\Temp\\ipykernel_19940\\3368925511.py:12: DtypeWarning: Columns (1) have mixed types. Specify dtype option on import or set low_memory=False.\n",
      "  data = pd.read_csv(\"NSSO68.csv\")\n"
     ]
    },
    {
     "name": "stdout",
     "output_type": "stream",
     "text": [
      "       foodtotal_v  hhdsz  Regular_salary_earner  MPCE_MRP  MPCE_URP  \\\n",
      "29288   777.287833      6                    2.0   2418.53   2042.00   \n",
      "29289   504.344250      4                    2.0   1968.38   1503.50   \n",
      "29290   548.630000     10                    2.0   1170.03   1023.30   \n",
      "29291   715.650500      2                    2.0   1702.70   1656.50   \n",
      "29292   434.551583     12                    1.0   1258.96   1167.50   \n",
      "...            ...    ...                    ...       ...       ...   \n",
      "94159   352.571333      6                    2.0    880.05    951.83   \n",
      "94160   369.088600      5                    2.0   3823.12  34518.80   \n",
      "94161   290.485125      8                    2.0    545.02    705.00   \n",
      "94162   285.053000      8                    2.0    633.28    532.75   \n",
      "94163   362.775833      6                    2.0    963.97   1351.83   \n",
      "\n",
      "       Possess_ration_card  Education  No_of_Meals_per_day  \n",
      "29288                  1.0       12.0                  2.0  \n",
      "29289                  1.0       12.0                  2.0  \n",
      "29290                  1.0        1.0                  2.0  \n",
      "29291                  1.0        7.0                  2.0  \n",
      "29292                  1.0        6.0                  2.0  \n",
      "...                    ...        ...                  ...  \n",
      "94159                  1.0        1.0                  2.0  \n",
      "94160                  2.0        1.0                  2.0  \n",
      "94161                  1.0        1.0                  2.0  \n",
      "94162                  2.0        1.0                  2.0  \n",
      "94163                  1.0        1.0                  2.0  \n",
      "\n",
      "[9015 rows x 8 columns]\n"
     ]
    }
   ],
   "source": [
    "import pandas as pd\n",
    "import statsmodels.api as sm\n",
    "from statsmodels.stats.outliers_influence import variance_inflation_factor\n",
    "from sklearn.impute import SimpleImputer\n",
    "import os\n",
    "\n",
    "# Set working directory\n",
    "os.chdir('E:\\\\JESIN\\\\DOCUMENTS\\\\scma\\\\A2a')\n",
    "print(os.getcwd())\n",
    "\n",
    "# Load the dataset\n",
    "data = pd.read_csv(\"NSSO68.csv\")\n",
    "\n",
    "# Subset data to state assigned\n",
    "subset_data = data[data['state_1'] == 'UP'][['foodtotal_v', 'hhdsz', 'Regular_salary_earner', 'MPCE_MRP', 'MPCE_URP', 'Possess_ration_card', 'Education', 'No_of_Meals_per_day']]\n",
    "print(subset_data)\n"
   ]
  },
  {
   "cell_type": "code",
   "execution_count": 5,
   "id": "7db72a95",
   "metadata": {},
   "outputs": [
    {
     "name": "stdout",
     "output_type": "stream",
     "text": [
      "0\n",
      "0\n",
      "0\n",
      "0\n",
      "0\n",
      "0\n",
      "0\n",
      "Possess_ration_card:\n",
      "0\n"
     ]
    }
   ],
   "source": [
    "# Check for missing values\n",
    "print(subset_data['hhdsz'].isna().sum())\n",
    "print(subset_data['Regular_salary_earner'].isna().sum())\n",
    "print(subset_data['MPCE_MRP'].isna().sum())\n",
    "print(subset_data['MPCE_URP'].isna().sum())\n",
    "print(subset_data['Possess_ration_card'].isna().sum())\n",
    "print(subset_data['Education'].isna().sum())\n",
    "print(subset_data['No_of_Meals_per_day'].isna().sum())\n",
    "\n",
    "# Impute missing values with mean\n",
    "imputer = SimpleImputer(strategy='mean')\n",
    "subset_data['Possess_ration_card'] = imputer.fit_transform(subset_data[['Possess_ration_card']])\n",
    "\n",
    "print(\"Possess_ration_card:\")\n",
    "print(subset_data['Possess_ration_card'].isna().sum())"
   ]
  },
  {
   "cell_type": "code",
   "execution_count": 6,
   "id": "e9cf3ae2",
   "metadata": {},
   "outputs": [
    {
     "name": "stdout",
     "output_type": "stream",
     "text": [
      "                            OLS Regression Results                            \n",
      "==============================================================================\n",
      "Dep. Variable:            foodtotal_v   R-squared:                       0.503\n",
      "Model:                            OLS   Adj. R-squared:                  0.502\n",
      "Method:                 Least Squares   F-statistic:                     1302.\n",
      "Date:                Sun, 23 Jun 2024   Prob (F-statistic):               0.00\n",
      "Time:                        13:17:15   Log-Likelihood:                -61381.\n",
      "No. Observations:                9015   AIC:                         1.228e+05\n",
      "Df Residuals:                    9007   BIC:                         1.228e+05\n",
      "Df Model:                           7                                         \n",
      "Covariance Type:            nonrobust                                         \n",
      "=========================================================================================\n",
      "                            coef    std err          t      P>|t|      [0.025      0.975]\n",
      "-----------------------------------------------------------------------------------------\n",
      "const                   361.0196     23.716     15.223      0.000     314.531     407.509\n",
      "hhdsz                   -12.9630      0.860    -15.074      0.000     -14.649     -11.277\n",
      "Regular_salary_earner   -14.6088      6.197     -2.357      0.018     -26.756      -2.462\n",
      "MPCE_MRP                  0.0728      0.002     34.081      0.000       0.069       0.077\n",
      "MPCE_URP                  0.0592      0.002     30.731      0.000       0.055       0.063\n",
      "Possess_ration_card     -48.0845      5.877     -8.181      0.000     -59.606     -36.563\n",
      "Education                 7.6343      0.638     11.965      0.000       6.384       8.885\n",
      "No_of_Meals_per_day      49.8726      8.234      6.057      0.000      33.732      66.013\n",
      "==============================================================================\n",
      "Omnibus:                     3368.303   Durbin-Watson:                   1.688\n",
      "Prob(Omnibus):                  0.000   Jarque-Bera (JB):          1256929.686\n",
      "Skew:                          -0.422   Prob(JB):                         0.00\n",
      "Kurtosis:                      60.840   Cond. No.                     3.22e+04\n",
      "==============================================================================\n",
      "\n",
      "Notes:\n",
      "[1] Standard Errors assume that the covariance matrix of the errors is correctly specified.\n",
      "[2] The condition number is large, 3.22e+04. This might indicate that there are\n",
      "strong multicollinearity or other numerical problems.\n"
     ]
    }
   ],
   "source": [
    "# Fit the regression model\n",
    "X = subset_data[['hhdsz', 'Regular_salary_earner', 'MPCE_MRP', 'MPCE_URP', 'Possess_ration_card', 'Education', 'No_of_Meals_per_day']]\n",
    "X = sm.add_constant(X)  # Adds a constant term to the predictor\n",
    "y = subset_data['foodtotal_v']\n",
    "\n",
    "model = sm.OLS(y, X).fit()\n",
    "\n",
    "# Print the regression results\n",
    "print(model.summary())"
   ]
  },
  {
   "cell_type": "code",
   "execution_count": 7,
   "id": "788e1f2a",
   "metadata": {},
   "outputs": [
    {
     "name": "stdout",
     "output_type": "stream",
     "text": [
      "                 feature         VIF\n",
      "0                  const  105.477846\n",
      "1                  hhdsz    1.098855\n",
      "2  Regular_salary_earner    1.138218\n",
      "3               MPCE_MRP    2.068354\n",
      "4               MPCE_URP    1.968635\n",
      "5    Possess_ration_card    1.048881\n",
      "6              Education    1.230296\n",
      "7    No_of_Meals_per_day    1.004672\n"
     ]
    }
   ],
   "source": [
    "# Check for multicollinearity using Variance Inflation Factor (VIF)\n",
    "vif_data = pd.DataFrame()\n",
    "vif_data[\"feature\"] = X.columns\n",
    "vif_data[\"VIF\"] = [variance_inflation_factor(X.values, i) for i in range(len(X.columns))]\n",
    "print(vif_data)  # VIF Value more than 8 is problematic"
   ]
  },
  {
   "cell_type": "code",
   "execution_count": 8,
   "id": "8578bcb0",
   "metadata": {},
   "outputs": [
    {
     "name": "stdout",
     "output_type": "stream",
     "text": [
      "y = 361.02 + -12.963010*x1 + -14.608830*x2 + 0.072781*x3 + 0.059190*x4 + -48.084503*x5 + 7.634267*x6 + 49.872590*x7\n"
     ]
    },
    {
     "name": "stderr",
     "output_type": "stream",
     "text": [
      "C:\\Users\\user\\AppData\\Local\\Temp\\ipykernel_19940\\337899916.py:5: FutureWarning: Series.__getitem__ treating keys as positions is deprecated. In a future version, integer keys will always be treated as labels (consistent with DataFrame behavior). To access a value by position, use `ser.iloc[pos]`\n",
      "  equation = f\"y = {coefficients[0]:.2f}\"\n",
      "C:\\Users\\user\\AppData\\Local\\Temp\\ipykernel_19940\\337899916.py:7: FutureWarning: Series.__getitem__ treating keys as positions is deprecated. In a future version, integer keys will always be treated as labels (consistent with DataFrame behavior). To access a value by position, use `ser.iloc[pos]`\n",
      "  equation += f\" + {coefficients[i]:.6f}*x{i}\"\n"
     ]
    }
   ],
   "source": [
    "# Extract the coefficients from the model\n",
    "coefficients = model.params\n",
    "\n",
    "# Construct the equation\n",
    "equation = f\"y = {coefficients[0]:.2f}\"\n",
    "for i in range(1, len(coefficients)):\n",
    "    equation += f\" + {coefficients[i]:.6f}*x{i}\"\n",
    "\n",
    "# Print the equation\n",
    "print(equation)"
   ]
  },
  {
   "cell_type": "code",
   "execution_count": null,
   "id": "fd75dbf6",
   "metadata": {},
   "outputs": [],
   "source": []
  }
 ],
 "metadata": {
  "kernelspec": {
   "display_name": "Python 3 (ipykernel)",
   "language": "python",
   "name": "python3"
  },
  "language_info": {
   "codemirror_mode": {
    "name": "ipython",
    "version": 3
   },
   "file_extension": ".py",
   "mimetype": "text/x-python",
   "name": "python",
   "nbconvert_exporter": "python",
   "pygments_lexer": "ipython3",
   "version": "3.11.7"
  }
 },
 "nbformat": 4,
 "nbformat_minor": 5
}
